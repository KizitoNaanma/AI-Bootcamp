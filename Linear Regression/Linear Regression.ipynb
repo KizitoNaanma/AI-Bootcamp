{
 "cells": [
  {
   "cell_type": "code",
   "execution_count": 32,
   "metadata": {},
   "outputs": [],
   "source": [
    "from statistics import mean\n",
    "import numpy as np\n",
    "import random"
   ]
  },
  {
   "cell_type": "code",
   "execution_count": 20,
   "metadata": {},
   "outputs": [],
   "source": [
    "import matplotlib.pyplot as plt\n",
    "from matplotlib import style\n",
    "style.use('fivethirtyeight')"
   ]
  },
  {
   "cell_type": "code",
   "execution_count": 17,
   "metadata": {},
   "outputs": [],
   "source": [
    "xs = np.array([1,2,3,4,5,6], dtype=np.float64)\n",
    "ys = np.array([5,4,6,5,6,7], dtype=np.float64)"
   ]
  },
  {
   "cell_type": "code",
   "execution_count": 40,
   "metadata": {},
   "outputs": [],
   "source": [
    "def create_dataset(hm, variance, step=2, correlation=False):\n",
    "    val = 1\n",
    "    ys = []\n",
    "    \n",
    "    for i in range(hm):\n",
    "        y = val + random.randrange(-variance, variance)\n",
    "        ys.append(y)\n",
    "        if correlation and correlation == 'pos':\n",
    "            val += step\n",
    "        elif correlation and correlation == 'neg':\n",
    "            val -= step\n",
    "            \n",
    "    xs = [i for i in range(len(ys))]\n",
    "    \n",
    "    return np.array(xs, dtype=np.float64), np.array(ys, dtype=np.float64)"
   ]
  },
  {
   "cell_type": "code",
   "execution_count": 41,
   "metadata": {},
   "outputs": [],
   "source": [
    "def best_fit_slope_n_intercept(xs, ys):\n",
    "    m = ((mean(xs)*mean(ys)) - mean(xs*ys)) / ((mean(xs)**2) - mean(xs**2))\n",
    "    b = mean(ys) - m*mean(xs)\n",
    "    return m, b"
   ]
  },
  {
   "cell_type": "code",
   "execution_count": 42,
   "metadata": {},
   "outputs": [],
   "source": [
    "def squared_error(y_orig, y_line):\n",
    "    return sum((y_line-y_orig)**2)"
   ]
  },
  {
   "cell_type": "code",
   "execution_count": 43,
   "metadata": {},
   "outputs": [],
   "source": [
    "def coefficient_of_determination(ys_orig, y_line):\n",
    "    y_mean_line = [mean(ys_orig) for y in ys_orig]\n",
    "    squared_error_regr = squared_error(ys_orig, y_line)\n",
    "    squared_error_y_mean = squared_error(ys_orig, y_mean_line)\n",
    "    \n",
    "    return 1 - (squared_error_regr / squared_error_y_mean)"
   ]
  },
  {
   "cell_type": "code",
   "execution_count": 65,
   "metadata": {},
   "outputs": [],
   "source": [
    "xs, ys = create_dataset(50, 10, 2, correlation='pos')"
   ]
  },
  {
   "cell_type": "code",
   "execution_count": 66,
   "metadata": {},
   "outputs": [
    {
     "name": "stdout",
     "output_type": "stream",
     "text": [
      "2.098199279711884 -2.6658823529411535\n"
     ]
    }
   ],
   "source": [
    "m, b = best_fit_slope_n_intercept(xs, ys)\n",
    "print(m, b)"
   ]
  },
  {
   "cell_type": "code",
   "execution_count": 67,
   "metadata": {},
   "outputs": [],
   "source": [
    "regression_line = [(m*x)+b for x in xs]"
   ]
  },
  {
   "cell_type": "code",
   "execution_count": 68,
   "metadata": {},
   "outputs": [
    {
     "name": "stdout",
     "output_type": "stream",
     "text": [
      "0.967064179737009\n"
     ]
    }
   ],
   "source": [
    "r_squared = coefficient_of_determination(ys,regression_line)\n",
    "print(r_squared)"
   ]
  },
  {
   "cell_type": "code",
   "execution_count": 69,
   "metadata": {},
   "outputs": [
    {
     "data": {
      "text/plain": [
       "[<matplotlib.lines.Line2D at 0x7f1bac1d9350>]"
      ]
     },
     "execution_count": 69,
     "metadata": {},
     "output_type": "execute_result"
    },
    {
     "data": {
      "image/png": "[encoded data removed]",
      "text/plain": [
       "<Figure size 432x288 with 1 Axes>"
      ]
     },
     "metadata": {},
     "output_type": "display_data"
    }
   ],
   "source": [
    "plt.scatter(xs,ys)\n",
    "plt.plot(xs,regression_line)"
   ]
  },
  {
   "cell_type": "code",
   "execution_count": null,
   "metadata": {},
   "outputs": [],
   "source": []
  }
 ],
 "metadata": {
  "kernelspec": {
   "display_name": "Python 3",
   "language": "python",
   "name": "python3"
  },
  "language_info": {
   "codemirror_mode": {
    "name": "ipython",
    "version": 3
   },
   "file_extension": ".py",
   "mimetype": "text/x-python",
   "name": "python",
   "nbconvert_exporter": "python",
   "pygments_lexer": "ipython3",
   "version": "3.7.6"
  }
 },
 "nbformat": 4,
 "nbformat_minor": 4
}
